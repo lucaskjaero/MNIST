{
 "cells": [
  {
   "cell_type": "code",
   "execution_count": 2,
   "metadata": {},
   "outputs": [
    {
     "name": "stdout",
     "output_type": "stream",
     "text": [
      "Built model\n",
      "Compiled model\n"
     ]
    }
   ],
   "source": [
    "from tensorflow.contrib.keras.python.keras.models import Sequential\n",
    "from tensorflow.contrib.keras.python.keras.layers import Conv2D, Dense, Dropout, Flatten, AveragePooling2D\n",
    "\n",
    "model = Sequential()\n",
    "model.add(Conv2D(6, kernel_size=(5, 5), strides=1, padding='same', activation='tanh',\n",
    "                 input_shape=(28, 28, 1)))\n",
    "model.add(AveragePooling2D(pool_size=(2, 2), strides=2))\n",
    "model.add(Conv2D(16, kernel_size=(5, 5), strides=1, activation='tanh'))\n",
    "model.add(AveragePooling2D(pool_size=(2, 2), strides=2))\n",
    "model.add(Conv2D(120, kernel_size=(5, 5), strides=1, activation='tanh'))\n",
    "model.add(Flatten())\n",
    "model.add(Dense(84, activation='tanh'))\n",
    "model.add(Dropout(0.5))\n",
    "model.add(Dense(10, activation='relu'))\n",
    "print(\"Built model\")\n",
    "\n",
    "model.compile(loss='binary_crossentropy', optimizer='adam', metrics=['accuracy'])\n",
    "print(\"Compiled model\")"
   ]
  },
  {
   "cell_type": "code",
   "execution_count": 4,
   "metadata": {
    "collapsed": true
   },
   "outputs": [],
   "source": [
    "from train import train_model, make_submission\n",
    "train_model(model)\n",
    "make_submission(model)"
   ]
  },
  {
   "cell_type": "code",
   "execution_count": 4,
   "metadata": {
    "collapsed": true
   },
   "outputs": [],
   "source": [
    "model.save(\"MNIST.h5\")"
   ]
  },
  {
   "cell_type": "code",
   "execution_count": 3,
   "metadata": {
    "collapsed": true
   },
   "outputs": [],
   "source": [
    "from tensorflow.contrib.keras.python.keras.models import load_model\n",
    "model = load_model(\"MNIST.h5\")"
   ]
  },
  {
   "cell_type": "code",
   "execution_count": null,
   "metadata": {
    "collapsed": true
   },
   "outputs": [],
   "source": []
  }
 ],
 "metadata": {
  "kernelspec": {
   "display_name": "Python 3",
   "language": "python",
   "name": "python3"
  },
  "language_info": {
   "codemirror_mode": {
    "name": "ipython",
    "version": 3
   },
   "file_extension": ".py",
   "mimetype": "text/x-python",
   "name": "python",
   "nbconvert_exporter": "python",
   "pygments_lexer": "ipython3",
   "version": "3.6.1"
  }
 },
 "nbformat": 4,
 "nbformat_minor": 2
}
